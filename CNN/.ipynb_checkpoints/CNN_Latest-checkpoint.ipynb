{
 "cells": [
  {
   "cell_type": "code",
   "execution_count": 2,
   "metadata": {},
   "outputs": [],
   "source": [
    "from gensim.models import Word2Vec, KeyedVectors\n",
    "model = KeyedVectors.load_word2vec_format('../../../GoogleNews-vectors-negative300.bin.gz', binary=True, limit=500000)"
   ]
  },
  {
   "cell_type": "code",
   "execution_count": 3,
   "metadata": {
    "collapsed": true
   },
   "outputs": [],
   "source": [
    "from sklearn.metrics.pairwise import cosine_similarity\n",
    "from nltk import word_tokenize, pos_tag,RegexpTokenizer\n",
    "import numpy as np"
   ]
  },
  {
   "cell_type": "code",
   "execution_count": 4,
   "metadata": {},
   "outputs": [
    {
     "name": "stderr",
     "output_type": "stream",
     "text": [
      "Using TensorFlow backend.\n"
     ]
    }
   ],
   "source": [
    "from keras.preprocessing.text import Tokenizer, one_hot\n",
    "from keras.preprocessing.sequence import pad_sequences\n",
    "from keras.preprocessing.text import one_hot\n",
    "from keras.preprocessing.sequence import pad_sequences\n",
    "from keras.models import Sequential\n",
    "from keras.layers import Dense\n",
    "from keras.layers import Flatten\n",
    "from keras.layers.embeddings import Embedding"
   ]
  },
  {
   "cell_type": "code",
   "execution_count": null,
   "metadata": {},
   "outputs": [],
   "source": [
    "# Preprocessing parameters\n",
    "sequence_length = 50\n",
    "\n",
    "#  Model Hyperparameters\n",
    "embedding_dim = 300\n",
    "filter_sizes = (1, 1)\n",
    "num_filters = 300\n",
    "# dropout_prob = (0.5, 0.8)\n",
    "# hidden_dims = 50"
   ]
  },
  {
   "cell_type": "code",
   "execution_count": 19,
   "metadata": {},
   "outputs": [
    {
     "name": "stdout",
     "output_type": "stream",
     "text": [
      "_________________________________________________________________\n",
      "Layer (type)                 Output Shape              Param #   \n",
      "=================================================================\n",
      "embedding_7 (Embedding)      (None, None, 300)         150000000 \n",
      "=================================================================\n",
      "Total params: 150,000,000\n",
      "Trainable params: 0\n",
      "Non-trainable params: 150,000,000\n",
      "_________________________________________________________________\n"
     ]
    }
   ],
   "source": [
    "s1model = Sequential()\n",
    "\n",
    "# Build model - sentence A\n",
    "model_input = Input(shape=(sequence_length, embedding_dim))\n",
    "\n",
    "embed_blocks = {}\n",
    "for i in range(sequence_length):\n",
    "    embed = model.get_keras_embedding(train_embeddings=False)(model_input[i])\n",
    "    embed_blocks{i} = embed\n",
    "\n",
    "# the model will take as input an integer matrix of size (batch, input_length).\n",
    "# the largest integer (i.e. word index) in the input should be no larger than 1000 (vocabulary size).\n",
    "# now model.output_shape == (None, 10, 64), where None is the batch dimension.\n",
    "\n",
    "# Convolutional block\n",
    "conv_blocks = []\n",
    "for i in range(sequence_length):\n",
    "    conv = Convolution2D(filters=num_filters,\n",
    "                         kernel_size=[ 1 , 1 ],\n",
    "                         padding=\"valid\",\n",
    "                         activation=\"relu\",\n",
    "                         strides=1)(embed_blocks{i})\n",
    "    conv_blocks.append(conv)\n",
    "\n",
    "con_out = Concatenate()(conv_blocks)\n",
    "\n",
    "conv = MaxPooling2D(pool_size=[ 1 , 30 ])(conv)\n",
    "\n",
    "    \n",
    "\n",
    "input_array = np.random.randint(1000, size=(32, 10))\n",
    "\n",
    "smodel.compile('rmsprop', 'mse')\n",
    "smodel.summary()\n",
    "output_array = smodel.predict(input_array)"
   ]
  },
  {
   "cell_type": "code",
   "execution_count": 23,
   "metadata": {},
   "outputs": [
    {
     "data": {
      "text/plain": [
       "array([[[ -6.15234375e-02,   9.52148438e-02,   1.33789062e-01, ...,\n",
       "           1.39648438e-01,   2.96630859e-02,   8.43048096e-04],\n",
       "        [  9.08203125e-02,   2.20703125e-01,   1.49414062e-01, ...,\n",
       "           2.18750000e-01,   3.97949219e-02,   1.46484375e-01],\n",
       "        [ -1.53320312e-01,   1.03515625e-01,  -8.98437500e-02, ...,\n",
       "          -1.03027344e-01,  -4.39453125e-03,  -7.26318359e-03],\n",
       "        ..., \n",
       "        [  1.53320312e-01,   1.90429688e-02,   2.35351562e-01, ...,\n",
       "           6.68945312e-02,  -4.61425781e-02,  -1.65039062e-01],\n",
       "        [  1.27929688e-01,  -5.56640625e-02,   3.46679688e-02, ...,\n",
       "          -4.39453125e-02,  -1.13281250e-01,   6.34765625e-02],\n",
       "        [  5.07812500e-02,   2.50000000e-01,   1.66992188e-01, ...,\n",
       "           1.33789062e-01,   5.82885742e-03,   2.39257812e-02]],\n",
       "\n",
       "       [[  1.92871094e-02,  -2.63671875e-01,   7.72094727e-03, ...,\n",
       "          -1.94335938e-01,   6.25000000e-02,  -1.91406250e-01],\n",
       "        [  2.63671875e-01,  -1.91650391e-02,   2.89306641e-02, ...,\n",
       "          -6.68945312e-02,   2.07031250e-01,  -1.38671875e-01],\n",
       "        [ -1.26953125e-01,   2.19726562e-02,   2.87109375e-01, ...,\n",
       "          -1.01562500e-01,  -9.03320312e-02,   8.83789062e-02],\n",
       "        ..., \n",
       "        [  1.64062500e-01,   1.88476562e-01,   1.41601562e-01, ...,\n",
       "          -7.12890625e-02,  -1.02050781e-01,   1.44653320e-02],\n",
       "        [  1.25000000e-01,  -1.38671875e-01,   1.03027344e-01, ...,\n",
       "          -1.49414062e-01,  -7.20977783e-04,  -1.26953125e-01],\n",
       "        [  1.43554688e-01,  -1.70898438e-01,   2.37304688e-01, ...,\n",
       "           1.60156250e-01,   2.75390625e-01,   2.05078125e-01]],\n",
       "\n",
       "       [[ -3.80859375e-02,  -2.14843750e-01,  -3.49121094e-02, ...,\n",
       "           2.27539062e-01,   7.32421875e-02,  -6.22558594e-02],\n",
       "        [ -1.72851562e-01,   2.79296875e-01,   1.06933594e-01, ...,\n",
       "           1.23046875e-01,   1.29882812e-01,  -1.82617188e-01],\n",
       "        [ -1.08886719e-01,  -2.48046875e-01,  -1.24511719e-01, ...,\n",
       "           5.98144531e-02,  -3.18908691e-03,  -9.82666016e-03],\n",
       "        ..., \n",
       "        [ -1.24023438e-01,  -2.06054688e-01,  -8.88671875e-02, ...,\n",
       "          -2.68554688e-02,  -6.07910156e-02,  -1.23535156e-01],\n",
       "        [ -2.25830078e-02,   1.84570312e-01,  -1.08398438e-01, ...,\n",
       "           7.27539062e-02,   3.75976562e-02,  -9.76562500e-02],\n",
       "        [ -1.35742188e-01,   1.75781250e-01,   1.17187500e-01, ...,\n",
       "          -6.83593750e-02,   3.24707031e-02,  -9.33837891e-03]],\n",
       "\n",
       "       ..., \n",
       "       [[ -2.44140625e-04,  -1.02050781e-01,  -1.49414062e-01, ...,\n",
       "          -1.85546875e-02,   5.12695312e-02,  -2.15820312e-01],\n",
       "        [ -2.67578125e-01,   9.27734375e-02,  -2.38281250e-01, ...,\n",
       "           5.83496094e-02,   2.25830078e-02,  -1.01074219e-01],\n",
       "        [  2.19726562e-02,   1.34765625e-01,  -5.78613281e-02, ...,\n",
       "          -5.56640625e-02,  -3.83300781e-02,  -3.18359375e-01],\n",
       "        ..., \n",
       "        [  7.51953125e-02,  -1.89208984e-02,  -5.37109375e-03, ...,\n",
       "          -4.02832031e-02,   1.12792969e-01,  -2.01171875e-01],\n",
       "        [ -5.76171875e-02,  -1.41601562e-01,  -1.98242188e-01, ...,\n",
       "          -8.25195312e-02,  -2.69531250e-01,  -1.18652344e-01],\n",
       "        [ -8.88671875e-02,   1.04980469e-01,  -7.42187500e-02, ...,\n",
       "          -2.10937500e-01,   2.57812500e-01,  -9.13085938e-02]],\n",
       "\n",
       "       [[  1.77001953e-02,   1.86523438e-01,  -4.63867188e-02, ...,\n",
       "          -1.00585938e-01,   8.93554688e-02,   2.12402344e-02],\n",
       "        [ -2.55126953e-02,   9.66796875e-02,   2.01171875e-01, ...,\n",
       "          -3.41796875e-01,   1.40625000e-01,  -5.68847656e-02],\n",
       "        [  1.93359375e-01,  -7.12890625e-02,   1.08398438e-01, ...,\n",
       "           4.80957031e-02,   1.65039062e-01,   4.41894531e-02],\n",
       "        ..., \n",
       "        [ -4.56542969e-02,  -2.17773438e-01,   5.90820312e-02, ...,\n",
       "          -3.12500000e-01,  -4.66308594e-02,  -1.78710938e-01],\n",
       "        [ -9.21630859e-03,  -2.11914062e-01,   2.16064453e-02, ...,\n",
       "          -8.74023438e-02,   1.45507812e-01,  -7.72094727e-03],\n",
       "        [ -7.76367188e-02,   2.57812500e-01,   2.15820312e-01, ...,\n",
       "          -1.95312500e-02,   1.01074219e-01,  -2.40234375e-01]],\n",
       "\n",
       "       [[  9.37500000e-02,  -8.64257812e-02,   1.54296875e-01, ...,\n",
       "           7.61718750e-02,  -4.80957031e-02,  -6.25000000e-02],\n",
       "        [ -2.37304688e-01,   1.24023438e-01,  -1.84570312e-01, ...,\n",
       "          -6.12792969e-02,  -5.41992188e-02,   2.05078125e-01],\n",
       "        [ -1.28906250e-01,   6.25000000e-02,   3.71093750e-01, ...,\n",
       "          -1.27929688e-01,   5.41992188e-02,   2.08007812e-01],\n",
       "        ..., \n",
       "        [  1.27929688e-01,  -5.56640625e-02,   3.46679688e-02, ...,\n",
       "          -4.39453125e-02,  -1.13281250e-01,   6.34765625e-02],\n",
       "        [ -5.20019531e-02,  -8.54492188e-02,  -1.35742188e-01, ...,\n",
       "           1.08398438e-01,   2.38281250e-01,   2.81982422e-02],\n",
       "        [  1.77001953e-02,   1.86523438e-01,  -4.63867188e-02, ...,\n",
       "          -1.00585938e-01,   8.93554688e-02,   2.12402344e-02]]], dtype=float32)"
      ]
     },
     "execution_count": 23,
     "metadata": {},
     "output_type": "execute_result"
    }
   ],
   "source": [
    "output_array"
   ]
  },
  {
   "cell_type": "code",
   "execution_count": null,
   "metadata": {
    "collapsed": true
   },
   "outputs": [],
   "source": []
  }
 ],
 "metadata": {
  "kernelspec": {
   "display_name": "Python 2",
   "language": "python",
   "name": "python2"
  },
  "language_info": {
   "codemirror_mode": {
    "name": "ipython",
    "version": 2
   },
   "file_extension": ".py",
   "mimetype": "text/x-python",
   "name": "python",
   "nbconvert_exporter": "python",
   "pygments_lexer": "ipython2",
   "version": "2.7.12"
  }
 },
 "nbformat": 4,
 "nbformat_minor": 2
}
