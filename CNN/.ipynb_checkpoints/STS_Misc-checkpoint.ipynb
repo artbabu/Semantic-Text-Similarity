{
 "cells": [
  {
   "cell_type": "code",
   "execution_count": 43,
   "metadata": {},
   "outputs": [],
   "source": [
    "from gensim.models import Word2Vec, KeyedVectors\n",
    "from sklearn.metrics.pairwise import cosine_similarity\n",
    "import numpy as np\n",
    "\n",
    "model = KeyedVectors.load_word2vec_format('../../../GoogleNews-vectors-negative300.bin.gz', binary=True, limit=200000)"
   ]
  },
  {
   "cell_type": "code",
   "execution_count": 63,
   "metadata": {},
   "outputs": [],
   "source": [
    "from nltk import word_tokenize, pos_tag"
   ]
  },
  {
   "cell_type": "code",
   "execution_count": 65,
   "metadata": {},
   "outputs": [],
   "source": [
    "\n",
    "def preprocessing_convert2BOW(sentence):\n",
    "#     Remove common words and change to lower\n",
    "    common_words = set('for a of the and to in ,'.split()) \n",
    "    if sentence is not None:\n",
    "        bow = [w for w in sentence.lower().split()]\n",
    "        return bow\n",
    "    \n",
    "    return []\n",
    "\n",
    "\n",
    "def convert2BOWV(sentence):\n",
    "    word_list = preprocessing_convert2BOW(sentence)\n",
    "    wv_list = []\n",
    "    \n",
    "    for w in word_list:\n",
    "        if w in model.vocab:\n",
    "            wv_list.append(model[w]) \n",
    "    return wv_list\n",
    "\n",
    "# sum of all word vectors\n",
    "def getSentenceEmbedings(sentence):\n",
    "    \n",
    "    wv_list = convert2BOWV(sentence)\n",
    "    sv = wv_list[0]\n",
    "    for i in range(len(wv_list)):\n",
    "        if i != 0:\n",
    "            sv = np.add(sv,wv_list[i])\n",
    "            \n",
    "    return sv                \n",
    "    \n",
    "sv1 = getSentenceEmbedings(\"Nobody is riding the bicycle on one wheel\")\n",
    "sv2 = getSentenceEmbedings(\"A person in a black jacket is doing tricks on a motorbike\")\n",
    "\n",
    "sv1 = sv1.reshape(1, -1)\n",
    "sv2 = sv2.reshape(1, -1)"
   ]
  },
  {
   "cell_type": "code",
   "execution_count": 72,
   "metadata": {},
   "outputs": [
    {
     "data": {
      "text/plain": [
       "[('Nobody', 'NN'),\n",
       " ('is', 'VBZ'),\n",
       " ('riding', 'VBG'),\n",
       " ('the', 'DT'),\n",
       " ('bicycle', 'NN'),\n",
       " ('on', 'IN'),\n",
       " ('one', 'CD'),\n",
       " ('wheel', 'NN')]"
      ]
     },
     "execution_count": 72,
     "metadata": {},
     "output_type": "execute_result"
    }
   ],
   "source": [
    "# download punkt and perceptron-tagger from nltk.download\n",
    "# get pos-tag of the given words\n",
    "pos_tag(word_tokenize(\"Nobody is riding the bicycle on one wheel\"))"
   ]
  },
  {
   "cell_type": "code",
   "execution_count": 60,
   "metadata": {},
   "outputs": [
    {
     "data": {
      "text/plain": [
       "array([[ 0.48660618]], dtype=float32)"
      ]
     },
     "execution_count": 60,
     "metadata": {},
     "output_type": "execute_result"
    }
   ],
   "source": [
    "# sv1.shape\n",
    "# sv2.shape\n",
    "cosine_similarity(sv1, sv2)"
   ]
  },
  {
   "cell_type": "code",
   "execution_count": 71,
   "metadata": {},
   "outputs": [
    {
     "name": "stdout",
     "output_type": "stream",
     "text": [
      "showing info https://raw.githubusercontent.com/nltk/nltk_data/gh-pages/index.xml\n"
     ]
    },
    {
     "data": {
      "text/plain": [
       "True"
      ]
     },
     "execution_count": 71,
     "metadata": {},
     "output_type": "execute_result"
    }
   ],
   "source": [
    "nltk.download()"
   ]
  },
  {
   "cell_type": "code",
   "execution_count": 26,
   "metadata": {
    "collapsed": true
   },
   "outputs": [],
   "source": [
    "from nltk.corpus import stopwords\n",
    "from nltk.tokenize import word_tokenize"
   ]
  },
  {
   "cell_type": "code",
   "execution_count": 28,
   "metadata": {},
   "outputs": [
    {
     "name": "stdout",
     "output_type": "stream",
     "text": [
      "<bound method WordListCorpusReader.raw of <WordListCorpusReader in u'/home/aarthy/nltk_data/corpora/stopwords'>>\n"
     ]
    }
   ],
   "source": [
    "print stopwords.raw"
   ]
  },
  {
   "cell_type": "code",
   "execution_count": null,
   "metadata": {
    "collapsed": true
   },
   "outputs": [],
   "source": []
  }
 ],
 "metadata": {
  "kernelspec": {
   "display_name": "Python 2",
   "language": "python",
   "name": "python2"
  },
  "language_info": {
   "codemirror_mode": {
    "name": "ipython",
    "version": 2
   },
   "file_extension": ".py",
   "mimetype": "text/x-python",
   "name": "python",
   "nbconvert_exporter": "python",
   "pygments_lexer": "ipython2",
   "version": "2.7.12"
  }
 },
 "nbformat": 4,
 "nbformat_minor": 2
}
