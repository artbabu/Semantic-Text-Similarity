{
 "cells": [
  {
   "cell_type": "code",
   "execution_count": 82,
   "metadata": {
    "collapsed": true
   },
   "outputs": [],
   "source": [
    "from gensim.models import Word2Vec, KeyedVectors\n",
    "vecmodel = KeyedVectors.load_word2vec_format('../../../GoogleNews-vectors-negative300.bin.gz', binary=True, limit=500000)\n"
   ]
  },
  {
   "cell_type": "code",
   "execution_count": 83,
   "metadata": {},
   "outputs": [],
   "source": [
    "\n",
    "from __future__ import print_function\n",
    "\n",
    "import os\n",
    "import sys\n",
    "import numpy as np\n",
    "import keras\n",
    "from keras.preprocessing.text import Tokenizer, text_to_word_sequence\n",
    "from keras.preprocessing.sequence import pad_sequences\n",
    "from keras.utils import to_categorical\n",
    "from keras.layers import Dense, Input, GlobalMaxPooling1D\n",
    "from keras.layers import Conv1D, MaxPooling1D, Embedding, Convolution2D, MaxPooling2D\n",
    "from keras.models import Model\n",
    "from keras.layers import Embedding\n"
   ]
  },
  {
   "cell_type": "code",
   "execution_count": 93,
   "metadata": {
    "collapsed": true
   },
   "outputs": [],
   "source": [
    "import pandas as pd\n",
    "columns = \"['pair_ID', 'sentence_A', 'sentence_B', 'relatedness_score','entailment_judgment']\"\n",
    "train_df = pd.read_csv(\"../data/SemEval2014_dataset/SICK_train.txt\", sep='\\t')\n",
    "trial_df = pd.read_csv(\"../data/SemEval2014_dataset/SICK_trial.txt\", sep='\\t')\n",
    "test_df = pd.read_csv(\"../data/SemEval2014_dataset/SICK_test_annotated.txt\", sep='\\t')\n",
    "\n",
    "texts = []\n",
    "BASE_DIR = ''\n",
    "TEXT_DATA_DIR = os.path.join('../data/SemEval2014_dataset/')\n",
    "MAX_SEQUENCE_LENGTH = 30\n",
    "MAX_NB_WORDS = 200000\n",
    "EMBEDDING_DIM = 300\n",
    "# VALIDATION_SPLIT = 0.2"
   ]
  },
  {
   "cell_type": "code",
   "execution_count": 94,
   "metadata": {
    "collapsed": true
   },
   "outputs": [],
   "source": [
    "# create word_id\n",
    "merged = train_df['sentence_A'].tolist()\n",
    "merged.extend(train_df['sentence_B'].tolist())\n",
    "merged.extend(trial_df['sentence_A'].tolist())\n",
    "merged.extend(trial_df['sentence_B'].tolist())\n",
    "merged.extend(test_df['sentence_A'].tolist())\n",
    "merged.extend(test_df['sentence_B'].tolist())\n",
    "\n",
    "tokenizer = Tokenizer(num_words=MAX_NB_WORDS)\n",
    "tokenizer.fit_on_texts(merged)\n",
    "sequences = tokenizer.texts_to_sequences(merged)\n"
   ]
  },
  {
   "cell_type": "code",
   "execution_count": 95,
   "metadata": {},
   "outputs": [],
   "source": [
    "embeddings_index = {}\n",
    "word_index = tokenizer.word_index\n",
    "# prepare embedding matrix\n",
    "num_words = max(MAX_NB_WORDS, len(word_index))\n",
    "embedding_matrix = np.zeros((num_words, EMBEDDING_DIM))\n",
    "\n",
    "for word, i in word_index.items():\n",
    "    if word in vecmodel.vocab:\n",
    "        embedding_vector = vecmodel[word]\n",
    "        if embedding_vector is not None:\n",
    "            # words not found in embedding index will be all-zeros.\n",
    "            embedding_matrix[i] = embedding_vector"
   ]
  },
  {
   "cell_type": "code",
   "execution_count": 96,
   "metadata": {},
   "outputs": [],
   "source": [
    "def get_tokenized_padded_data(data):\n",
    "    \n",
    "#     t = Tokenizer(num_words=MAX1_NB_WORDS)\n",
    "#     t.fit_on_texts(data)\n",
    "    seq = tokenizer.texts_to_sequences(data)\n",
    "    d = pad_sequences(seq, maxlen=MAX_SEQUENCE_LENGTH)   \n",
    "    return d\n",
    "def get_target_category(data):\n",
    "    target= np.zeros([len(data),6])\n",
    "    for i in range(len(data)):\n",
    "        value = int(round(data[i]))\n",
    "        target[i][value] = 1\n",
    "    return target"
   ]
  },
  {
   "cell_type": "code",
   "execution_count": 97,
   "metadata": {},
   "outputs": [],
   "source": [
    "\n",
    "xA_train = get_tokenized_padded_data(train_df['sentence_A'].tolist())\n",
    "xA_val = get_tokenized_padded_data(trial_df['sentence_A'].tolist())\n",
    "xA_test = get_tokenized_padded_data(test_df['sentence_A'].tolist())\n",
    "\n",
    "xB_train = get_tokenized_padded_data(train_df['sentence_B'].tolist())\n",
    "xB_val = get_tokenized_padded_data(trial_df['sentence_B'].tolist())\n",
    "xB_test = get_tokenized_padded_data(test_df['sentence_B'].tolist())\n",
    "\n",
    "y_train = get_target_category(train_df['relatedness_score'].tolist())\n",
    "y_val = get_target_category(trial_df['relatedness_score'].tolist())\n",
    "y_test = get_target_category(test_df['relatedness_score'].tolist())\n"
   ]
  },
  {
   "cell_type": "code",
   "execution_count": 98,
   "metadata": {},
   "outputs": [
    {
     "data": {
      "text/plain": [
       "(4500, 30)"
      ]
     },
     "execution_count": 98,
     "metadata": {},
     "output_type": "execute_result"
    }
   ],
   "source": [
    "xA_train.shape"
   ]
  },
  {
   "cell_type": "code",
   "execution_count": 35,
   "metadata": {
    "collapsed": true
   },
   "outputs": [],
   "source": [
    "# inp = Input(shape=(MAX_SEQUENCE_LENGTH,))"
   ]
  },
  {
   "cell_type": "code",
   "execution_count": 36,
   "metadata": {
    "collapsed": true
   },
   "outputs": [],
   "source": [
    "# embedding_layer = Embedding(num_words + 1,\n",
    "#                             EMBEDDING_DIM,\n",
    "#                             weights=[embedding_matrix],\n",
    "#                             input_length=MAX_SEQUENCE_LENGTH,\n",
    "#                             trainable=False)"
   ]
  },
  {
   "cell_type": "code",
   "execution_count": 37,
   "metadata": {},
   "outputs": [],
   "source": [
    "# seqA_input = Input(shape=(MAX_SEQUENCE_LENGTH,))\n",
    "\n",
    "# embedding_layer = Embedding(num_words,\n",
    "#                             EMBEDDING_DIM,\n",
    "#                             weights=[embedding_matrix],\n",
    "#                             input_length=MAX_SEQUENCE_LENGTH,\n",
    "#                             trainable=False)\n",
    "\n",
    "# print (seqA_input.shape)\n",
    "# x_A = embedding_layer(seqA_input)\n",
    "# print (x_A.shape)\n",
    "# x_A = Convolution2D(filters=300,\n",
    "#                          kernel_size=[ 1 , 1 ],\n",
    "#                          padding=\"valid\",\n",
    "#                          activation=\"relu\",\n",
    "#                          strides=1)(x_A)\n",
    "\n",
    "# print (x_A.shape)\n",
    "# x_A = MaxPooling2D(pool_size=[MAX_SEQUENCE_LENGTH,1])(x_A)\n",
    "\n",
    "# # x_B = embedding_layer(sequence_input)\n",
    "# # x_B = Convolution2D(filters=300,\n",
    "# #                          kernel_size=[ 1 , 1 ],\n",
    "# #                          padding=\"valid\",\n",
    "# #                          activation=\"relu\",\n",
    "# #                          strides=1)(x_A)\n",
    "\n",
    "# # x_B = MaxPooling2D(pool_size=[MAX_SEQUENCE_LENGTH,1])(x_B)\n",
    "\n",
    "\n",
    "# x_A = Dense(300, activation='relu')(x_A)\n",
    "# preds = Dense(5, activation='softmax')(x_A)\n",
    "# model = Model(seqA_input, preds)\n",
    "# model.compile(loss='categorical_crossentropy',\n",
    "#               optimizer='rmsprop',\n",
    "#               metrics=['acc'])\n",
    "# model.summary()\n",
    "# # model.fit(xA_train, y_train,\n",
    "# #           batch_size=128,\n",
    "# #           epochs=10,\n",
    "# #           validation_data=(xA_val, y_val))"
   ]
  },
  {
   "cell_type": "code",
   "execution_count": 105,
   "metadata": {},
   "outputs": [
    {
     "name": "stdout",
     "output_type": "stream",
     "text": [
      "(?, 30)\n"
     ]
    }
   ],
   "source": [
    "seqA_input = Input(shape=(MAX_SEQUENCE_LENGTH,), name='seqA_input')\n",
    "seqB_input = Input(shape=(MAX_SEQUENCE_LENGTH,))\n",
    "\n",
    "embedding_layer = Embedding(num_words,\n",
    "                            EMBEDDING_DIM,\n",
    "                            weights=[embedding_matrix],\n",
    "                            input_length=MAX_SEQUENCE_LENGTH,\n",
    "                            trainable=False)\n",
    "\n",
    "print (seqA_input.shape)\n",
    "x_A = embedding_layer(seqA_input)\n",
    "x_A = Conv1D(filters=300,kernel_size=1,padding=\"valid\",activation=\"relu\",strides=1,kernel_initializer='he_uniform')(x_A)\n",
    "x_A = MaxPooling1D(pool_size=[MAX_SEQUENCE_LENGTH])(x_A)\n",
    "\n",
    "x_B = embedding_layer(seqB_input)\n",
    "x_B = Conv1D(filters=300,kernel_size=1,padding=\"valid\",activation=\"relu\",strides=1,kernel_initializer='he_uniform')(x_B)\n",
    "x_B = MaxPooling1D(pool_size=[MAX_SEQUENCE_LENGTH])(x_B)\n",
    "\n",
    "diff = keras.layers.Subtract()([x_A, x_B])\n",
    "prod = keras.layers.Multiply()([x_A, x_B])\n",
    "\n",
    "\n",
    "x = keras.layers.concatenate([diff, prod])\n",
    "\n",
    "\n",
    "x = Dense(300, activation='tanh',kernel_initializer='he_uniform')(x)\n",
    "x = GlobalMaxPooling1D()(x)\n",
    "preds = Dense(6, activation='softmax')(x)\n",
    "model = Model(inputs=[seqA_input,seqB_input], outputs=preds)\n",
    "model.compile(loss='mean_squared_error',\n",
    "              optimizer='adam',\n",
    "              metrics=['acc'])\n"
   ]
  },
  {
   "cell_type": "code",
   "execution_count": 106,
   "metadata": {},
   "outputs": [
    {
     "name": "stdout",
     "output_type": "stream",
     "text": [
      "Train on 4500 samples, validate on 500 samples\n",
      "Epoch 1/10\n",
      "4500/4500 [==============================] - 4s 813us/step - loss: 0.1226 - acc: 0.3740 - val_loss: 0.1238 - val_acc: 0.3700\n",
      "Epoch 2/10\n",
      "4500/4500 [==============================] - 3s 739us/step - loss: 0.1110 - acc: 0.4653 - val_loss: 0.1222 - val_acc: 0.3520\n",
      "Epoch 3/10\n",
      "4500/4500 [==============================] - 3s 753us/step - loss: 0.1020 - acc: 0.5244 - val_loss: 0.1270 - val_acc: 0.3540\n",
      "Epoch 4/10\n",
      "4500/4500 [==============================] - 4s 810us/step - loss: 0.0945 - acc: 0.5671 - val_loss: 0.1264 - val_acc: 0.3580\n",
      "Epoch 5/10\n",
      "4500/4500 [==============================] - 4s 788us/step - loss: 0.0852 - acc: 0.6309 - val_loss: 0.1323 - val_acc: 0.3580\n",
      "Epoch 6/10\n",
      "4500/4500 [==============================] - 4s 793us/step - loss: 0.0764 - acc: 0.6773 - val_loss: 0.1407 - val_acc: 0.3440\n",
      "Epoch 7/10\n",
      "4500/4500 [==============================] - 4s 787us/step - loss: 0.0702 - acc: 0.7087 - val_loss: 0.1451 - val_acc: 0.3680\n",
      "Epoch 8/10\n",
      "4500/4500 [==============================] - 4s 849us/step - loss: 0.0660 - acc: 0.7287 - val_loss: 0.1513 - val_acc: 0.3340\n",
      "Epoch 9/10\n",
      "4500/4500 [==============================] - 4s 807us/step - loss: 0.0610 - acc: 0.7520 - val_loss: 0.1478 - val_acc: 0.3700\n",
      "Epoch 10/10\n",
      "4500/4500 [==============================] - 4s 793us/step - loss: 0.0541 - acc: 0.7909 - val_loss: 0.1521 - val_acc: 0.3600\n"
     ]
    },
    {
     "data": {
      "text/plain": [
       "<keras.callbacks.History at 0x7fdba5d2ca50>"
      ]
     },
     "execution_count": 106,
     "metadata": {},
     "output_type": "execute_result"
    }
   ],
   "source": [
    "model.fit([xA_train,xB_train], y_train,\n",
    "          batch_size=128,\n",
    "          epochs=10,validation_data=([xA_val,xB_val], y_val))"
   ]
  },
  {
   "cell_type": "code",
   "execution_count": 92,
   "metadata": {},
   "outputs": [
    {
     "name": "stdout",
     "output_type": "stream",
     "text": [
      "4927/4927 [==============================] - 3s 538us/step\n"
     ]
    },
    {
     "data": {
      "text/plain": [
       "[0.14651936665252954, 0.34442865850658333]"
      ]
     },
     "execution_count": 92,
     "metadata": {},
     "output_type": "execute_result"
    }
   ],
   "source": [
    "model.evaluate([xA_test,xB_test], y_test, batch_size=128)"
   ]
  },
  {
   "cell_type": "code",
   "execution_count": null,
   "metadata": {},
   "outputs": [],
   "source": [
    "np.reshape(y_train,[-1,1])"
   ]
  },
  {
   "cell_type": "code",
   "execution_count": null,
   "metadata": {},
   "outputs": [],
   "source": [
    "a = np.array([1, 2, 3, 4])\n",
    "b = np.array([11, 12, 33, 54])\n",
    "np.concatenate((a,b))"
   ]
  },
  {
   "cell_type": "code",
   "execution_count": null,
   "metadata": {
    "collapsed": true
   },
   "outputs": [],
   "source": []
  }
 ],
 "metadata": {
  "kernelspec": {
   "display_name": "Python 2",
   "language": "python",
   "name": "python2"
  },
  "language_info": {
   "codemirror_mode": {
    "name": "ipython",
    "version": 2
   },
   "file_extension": ".py",
   "mimetype": "text/x-python",
   "name": "python",
   "nbconvert_exporter": "python",
   "pygments_lexer": "ipython2",
   "version": "2.7.12"
  }
 },
 "nbformat": 4,
 "nbformat_minor": 2
}
