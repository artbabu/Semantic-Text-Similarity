{
 "cells": [
  {
   "cell_type": "code",
   "execution_count": 15,
   "metadata": {
    "collapsed": true
   },
   "outputs": [],
   "source": [
    "import pandas as pd\n",
    "import glob, os    \n",
    "\n",
    "train_df = pd.read_csv(\"../data/SemEval2014_dataset/SICK_train.txt\", sep='\\t')\n",
    "trial_df = pd.read_csv(\"../data/SemEval2014_dataset/SICK_trial.txt\", sep='\\t')\n",
    "test_df = pd.read_csv(\"../data/SemEval2014_dataset/SICK_test_annotated.txt\", sep='\\t')"
   ]
  },
  {
   "cell_type": "code",
   "execution_count": 161,
   "metadata": {},
   "outputs": [
    {
     "data": {
      "text/plain": [
       "6734"
      ]
     },
     "execution_count": 161,
     "metadata": {},
     "output_type": "execute_result"
    }
   ],
   "source": [
    "path = \"../data/train/MS_PAR/\"                     # use your path\n",
    "import pandas as pd\n",
    "import numpy as np\n",
    "from itertools import chain\n",
    "cols = ['pair_ID', 'sentence_A', 'sentence_B', 'relatedness_score','entailment_judgment']\n",
    "\n",
    "data_dict = {}\n",
    "# MS_PAR data\n",
    "with open('../data/train/MS_PAR/STS.input.MSRpar.txt') as f:\n",
    "    for i, l in enumerate(f):\n",
    "        a = l.strip().split(\"\\t\")\n",
    "        a = [item for item in a if item]\n",
    "        data_dict[i] = list(chain([i],a))\n",
    "        \n",
    "with open('../data/train/MS_PAR/STS.gs.MSRpar.txt') as f:\n",
    "    for i, l in enumerate(f):\n",
    "        a = l.strip().split(\"\\t\")\n",
    "        a = [item for item in a if item]\n",
    "        data_dict[i] = list(chain(data_dict[i],a, ['None']))\n",
    "        \n",
    "temp = pd.DataFrame(data_dict.values(), columns=cols)\n",
    "train_df = train_df.append(temp)      \n",
    "\n",
    "eurodata = {}\n",
    "# Euro Pal\n",
    "with open('../data/train/EuroPal/STS.input.SMTeuroparl.txt') as f:\n",
    "    for i, l in enumerate(f):\n",
    "        a = l.strip().split(\"\\t\")\n",
    "        a = [item for item in a if item]\n",
    "        eurodata[i] = list(chain([i],a))\n",
    "        \n",
    "with open('../data/train/EuroPal/STS.gs.SMTeuroparl.txt') as f:\n",
    "    for i, l in enumerate(f):\n",
    "        a = l.strip().split(\"\\t\")\n",
    "        a = [item for item in a if item]\n",
    "        eurodata[i] = list(chain(eurodata[i],a, ['None']))\n",
    "\n",
    "temp = pd.DataFrame(eurodata.values(), columns=cols)\n",
    "train_df = train_df.append(temp)        "
   ]
  },
  {
   "cell_type": "code",
   "execution_count": 177,
   "metadata": {},
   "outputs": [],
   "source": [
    "clean_data = {}\n",
    "with open('../data/sts2015-en-post/data/clean/text.clean') as f:\n",
    "    for i, l in enumerate(f):\n",
    "        a = l.strip().split(\"\\t\")\n",
    "        clean_data[i] = [item for item in a if item]\n",
    "        \n",
    "c = ['relatedness_score','A','B',\"C\", 'sentence_A', 'sentence_B']        \n",
    "temp = pd.DataFrame(clean_data.values(), columns=c) \n",
    "temp = temp.drop(['A','B', 'C'], axis=1)        "
   ]
  },
  {
   "cell_type": "code",
   "execution_count": 184,
   "metadata": {},
   "outputs": [],
   "source": [
    "train_df = train_df.append(temp)"
   ]
  },
  {
   "cell_type": "code",
   "execution_count": 189,
   "metadata": {},
   "outputs": [],
   "source": [
    "train_df.to_csv(\"../data/enhance_traindata.csv\",index=False,sep='\\t')"
   ]
  },
  {
   "cell_type": "code",
   "execution_count": null,
   "metadata": {
    "collapsed": true
   },
   "outputs": [],
   "source": []
  }
 ],
 "metadata": {
  "kernelspec": {
   "display_name": "Python 2",
   "language": "python",
   "name": "python2"
  },
  "language_info": {
   "codemirror_mode": {
    "name": "ipython",
    "version": 2
   },
   "file_extension": ".py",
   "mimetype": "text/x-python",
   "name": "python",
   "nbconvert_exporter": "python",
   "pygments_lexer": "ipython2",
   "version": "2.7.12"
  }
 },
 "nbformat": 4,
 "nbformat_minor": 2
}
