{
 "cells": [
  {
   "cell_type": "code",
   "execution_count": 103,
   "metadata": {
    "collapsed": true
   },
   "outputs": [],
   "source": [
    "from sklearn.ensemble import RandomForestRegressor\n",
    "import numpy as np\n",
    "from sklearn.model_selection import train_test_split\n",
    "from sklearn import datasets\n",
    "import pandas as pd"
   ]
  },
  {
   "cell_type": "code",
   "execution_count": 104,
   "metadata": {},
   "outputs": [],
   "source": [
    "df = pd.read_pickle(\"preprocessor/train_data_features\")\n",
    "test_df = pd.read_pickle(\"preprocessor/test_data_features\")"
   ]
  },
  {
   "cell_type": "code",
   "execution_count": 105,
   "metadata": {},
   "outputs": [],
   "source": [
    "Y_df = df['Score']\n",
    "X_df = df.drop(['Sentence1', 'Sentence2','Alignment','Score','pear_dis'], axis=1)\n",
    "X_df.fillna(-1, inplace=True)\n",
    "X_df.replace(np.inf, -1, inplace=True)\n",
    "\n",
    "\n",
    "YTest_df = test_df['Score']\n",
    "XTest_df = test_df.drop(['Sentence1', 'Sentence2','Alignment','Score','pear_dis'], axis=1)\n",
    "XTest_df.fillna(-1, inplace=True)\n",
    "XTest_df.replace(np.inf, -1, inplace=True)"
   ]
  },
  {
   "cell_type": "code",
   "execution_count": 106,
   "metadata": {},
   "outputs": [],
   "source": [
    "from sklearn.ensemble import RandomForestRegressor\n",
    "X = X_df.values.tolist()\n",
    "Y = Y_df.values.tolist()\n",
    "regressor = RandomForestRegressor(n_estimators=10)\n",
    "regressor = clf.fit(X, Y)"
   ]
  },
  {
   "cell_type": "code",
   "execution_count": 107,
   "metadata": {},
   "outputs": [],
   "source": [
    "X_test =  XTest_df.values.tolist()\n",
    "Y_test =  YTest_df.values.tolist()\n",
    "predicted = regressor.predict(X_test)"
   ]
  },
  {
   "cell_type": "code",
   "execution_count": 108,
   "metadata": {},
   "outputs": [
    {
     "name": "stdout",
     "output_type": "stream",
     "text": [
      "score: 0.716756622466\n"
     ]
    }
   ],
   "source": [
    "score = np.corrcoef(predicted, Y_test)[0,1]\n",
    "print(\"score: {}\".format( score ))"
   ]
  },
  {
   "cell_type": "code",
   "execution_count": 114,
   "metadata": {},
   "outputs": [
    {
     "name": "stdout",
     "output_type": "stream",
     "text": [
      "score: 0.719711071999\n"
     ]
    }
   ],
   "source": [
    "import numpy as np\n",
    "from sklearn.metrics import mean_squared_error\n",
    "from sklearn.datasets import make_friedman1\n",
    "from sklearn.ensemble import GradientBoostingRegressor\n",
    "\n",
    "est = GradientBoostingRegressor(n_estimators=500, learning_rate=0.01, loss='ls').fit(X, Y)\n",
    "predicted = est.predict(X_test)\n",
    "score = np.corrcoef(predicted, Y_test)[0,1]\n",
    "print(\"score: {}\".format( score ))"
   ]
  },
  {
   "cell_type": "code",
   "execution_count": null,
   "metadata": {
    "collapsed": true
   },
   "outputs": [],
   "source": [
    "from sklearn.model_selection import train_test_split\n",
    "from sklearn import svm\n",
    "\n",
    "\n",
    "def limsvmScore(X_train, X_test, y_train, y_test, featureName = \"Unspecified\"):    \n",
    "    regr = svm.LinearSVR(C=50.0, epsilon = 0.8, max_iter=100000)\n",
    "    regr.fit(X_train, y_train)\n",
    "    print(\"lin SQ: {} score: {}\".format(featureName, regr.score(X_test, y_test) )) \n",
    "    predicted = regr.predict(X_test)\n",
    "    np.corrcoef(predicted, y_test)[0,1]\n",
    "    \n",
    "    regr = svm.LinearSVR(C=50.0, epsilon = 0.515, max_iter=100000)\n",
    "    regr.fit(X_train, y_train)\n",
    "    print(\"lin: {} score: {}\".format(featureName, regr.score(X_test, y_test) ))\n",
    "    \n",
    "def nusvmScore(X_train, X_test, y_train, y_test, featureName = \"Unspecified\"):\n",
    "    clf = svm.NuSVR(C=30.0, kernel ='poly', nu  = 0.515, degree  = 5)\n",
    "    clf.fit(X_train, y_train)  \n",
    "    predicted = clf.predict(X_test)\n",
    "    score = np.corrcoef(predicted, y_test)[0,1]\n",
    "    print(\"NuSVR poly {} score: {}\".format(featureName, score ))\n",
    "    \n",
    "    clf = svm.NuSVR(C=30.0, kernel ='rbf', nu  = 0.515)\n",
    "    clf.fit(X_train, y_train)  \n",
    "    predicted = clf.predict(X_test)\n",
    "    score = np.corrcoef(predicted, y_test)[0,1]\n",
    "    print(\"NuSVR rbf {} score: {}\".format(featureName, score ))\n",
    "\n",
    "# f_train, f_test, t_train, t_test = train_test_split(featureData, targetData, test_size= 0.25)\n",
    "nusvmScore(X, X_test, Y, Y_test, \"only train\")\n",
    "    "
   ]
  },
  {
   "cell_type": "code",
   "execution_count": null,
   "metadata": {
    "collapsed": true
   },
   "outputs": [],
   "source": []
  }
 ],
 "metadata": {
  "kernelspec": {
   "display_name": "Python 2",
   "language": "python",
   "name": "python2"
  },
  "language_info": {
   "codemirror_mode": {
    "name": "ipython",
    "version": 2
   },
   "file_extension": ".py",
   "mimetype": "text/x-python",
   "name": "python",
   "nbconvert_exporter": "python",
   "pygments_lexer": "ipython2",
   "version": "2.7.12"
  }
 },
 "nbformat": 4,
 "nbformat_minor": 2
}
