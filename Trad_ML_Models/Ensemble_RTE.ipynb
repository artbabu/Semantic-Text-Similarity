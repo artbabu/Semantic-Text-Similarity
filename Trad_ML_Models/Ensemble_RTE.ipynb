{
 "cells": [
  {
   "cell_type": "code",
   "execution_count": 2,
   "metadata": {
    "collapsed": true
   },
   "outputs": [],
   "source": [
    "from sklearn.ensemble import RandomForestClassifier\n",
    "import numpy as np\n",
    "from sklearn.model_selection import train_test_split\n",
    "from sklearn import datasets\n",
    "import pandas as pd\n",
    "from sklearn.metrics import accuracy_score"
   ]
  },
  {
   "cell_type": "code",
   "execution_count": 3,
   "metadata": {},
   "outputs": [
    {
     "data": {
      "text/plain": [
       "array(['index', 'RTE', 'sentence1_binary_parse', 'sentence2_binary_parse',\n",
       "       'sentence1_parse', 'sentence2_parse', 'Sentence1', 'Sentence2',\n",
       "       '1gram_woverlap', '2gram_woverlap', '3gram_woverlap',\n",
       "       '2gram_coverlap', '3gram_coverlap', '4gram_coverlap',\n",
       "       '5gram_coverlap', 'longestCommonPrefix', 'longestCommonSuffix',\n",
       "       'longestSubstringFinder', 'levenshtein_distance',\n",
       "       'jaccard_distance', 'masi_distance', 'cos_sim', 'bi_sub_tree_count',\n",
       "       'sub_tree_count', 'man_dis', 'euc_dis', 'pear_dis', 'kend_dis',\n",
       "       'Bleu_score', 'len_S1', 'len_S2', 'S1_diff_S2', 'S2_diff_S1',\n",
       "       'S1_or_S2', 'S1_and_S2', 'S1_diff_S2_div_len_S2',\n",
       "       'S2_diff_A_div_len_S1', 'N_A_diff_B', 'V_A_diff_B', 'J_A_diff_B',\n",
       "       'R_A_diff_B', 'N_B_diff_A', 'V_B_diff_A', 'J_B_diff_A',\n",
       "       'R_B_diff_A', 'Score'], dtype=object)"
      ]
     },
     "execution_count": 3,
     "metadata": {},
     "output_type": "execute_result"
    }
   ],
   "source": [
    "df = pd.read_pickle(\"preprocessor/SNLI_train_data_features\")\n",
    "df.fillna(-1, inplace=True)\n",
    "df.replace(np.inf, -1, inplace=True)\n",
    "test_df = pd.read_pickle(\"preprocessor/SNLI_test_data_features\")\n",
    "test_df.fillna(-1, inplace=True)\n",
    "test_df.replace(np.inf, -1, inplace=True)\n",
    "df.columns.values"
   ]
  },
  {
   "cell_type": "code",
   "execution_count": 5,
   "metadata": {
    "collapsed": true
   },
   "outputs": [],
   "source": [
    "def get_XYdata(dataframe, target_label, feature_exclude_list):\n",
    "    \n",
    "    Y_df = dataframe[target_label]\n",
    "    X_df = dataframe.drop(feature_exclude_list, axis=1)\n",
    "    X_df.fillna(-1, inplace=True)\n",
    "    X_df.replace(np.inf, -1, inplace=True)  \n",
    "    X_df = X_df.round(2)\n",
    "    \n",
    "    return X_df.values.tolist(), Y_df.values.tolist()\n",
    "\n",
    "exclude_list = ['index','RTE', 'sentence1_binary_parse', 'sentence2_binary_parse',\n",
    "       'sentence1_parse', 'sentence2_parse', 'Sentence1', 'Sentence2','Score','pear_dis']\n",
    "\n",
    "x_train, y_train =  get_XYdata(df, 'Score', exclude_list)\n",
    "x_test, y_test =  get_XYdata(test_df, 'Score', exclude_list)"
   ]
  },
  {
   "cell_type": "code",
   "execution_count": 4,
   "metadata": {},
   "outputs": [
    {
     "name": "stdout",
     "output_type": "stream",
     "text": [
      "score: 0.5431\n"
     ]
    }
   ],
   "source": [
    "from sklearn.ensemble import RandomForestClassifier\n",
    "classifer = RandomForestClassifier(n_estimators=100)\n",
    "\n",
    "classifer = classifer.fit(x_train, y_train)\n",
    "predicted = classifer.predict(x_test)\n",
    "\n",
    "score = accuracy_score(y_test, predicted)\n",
    "print(\"score: {}\".format( score ))"
   ]
  },
  {
   "cell_type": "code",
   "execution_count": 7,
   "metadata": {},
   "outputs": [
    {
     "name": "stdout",
     "output_type": "stream",
     "text": [
      "score: 0.4956\n"
     ]
    }
   ],
   "source": [
    "import numpy as np\n",
    "from sklearn.metrics import mean_squared_error\n",
    "from sklearn.datasets import make_friedman1\n",
    "from sklearn.ensemble import GradientBoostingClassifier\n",
    "\n",
    "est = GradientBoostingClassifier(n_estimators=100, learning_rate=0.01).fit(x_train, y_train)\n",
    "predicted = est.predict(x_test)\n",
    "score = accuracy_score(y_test, predicted)\n",
    "print(\"score: {}\".format( score ))"
   ]
  },
  {
   "cell_type": "code",
   "execution_count": 6,
   "metadata": {},
   "outputs": [
    {
     "data": {
      "text/plain": [
       "50000"
      ]
     },
     "execution_count": 6,
     "metadata": {},
     "output_type": "execute_result"
    }
   ],
   "source": [
    "len(x_train)"
   ]
  },
  {
   "cell_type": "code",
   "execution_count": null,
   "metadata": {
    "collapsed": true
   },
   "outputs": [],
   "source": [
    "from sklearn.svm import SVC\n",
    "clf = SVC()\n",
    "clf.fit(x_train, y_train)\n",
    "predicted = clf.predict(x_test)\n",
    "score = accuracy_score(y_test, predicted)\n",
    "print(\"score: {}\".format( score ))"
   ]
  },
  {
   "cell_type": "code",
   "execution_count": null,
   "metadata": {},
   "outputs": [],
   "source": [
    "import time\n",
    "import numpy as np\n",
    "from sklearn.ensemble import BaggingClassifier, RandomForestClassifier\n",
    "from sklearn import datasets\n",
    "from sklearn.multiclass import OneVsRestClassifier\n",
    "from sklearn.svm import SVC\n",
    "\n",
    "# iris = datasets.load_iris()\n",
    "# X, y = iris.data, iris.target\n",
    "\n",
    "# X = np.repeat(X, 100, axis=0)\n",
    "# y = np.repeat(y, 100, axis=0)\n",
    "# start = time.time()\n",
    "# clf = OneVsRestClassifier(SVC(kernel='linear', probability=True, class_weight='auto'))\n",
    "# clf.fit(X, y)\n",
    "# end = time.time()\n",
    "# print \"Single SVC\", end - start, clf.score(X,y)\n",
    "# proba = clf.predict_proba(X)\n",
    "\n",
    "n_estimators = 10\n",
    "start = time.time()\n",
    "clf = OneVsRestClassifier(BaggingClassifier(SVC(kernel='linear', probability=True), max_samples=1.0 / n_estimators, n_estimators=n_estimators))\n",
    "clf.fit(x_train, y_train)\n",
    "end = time.time()\n",
    "print \"Bagging SVC\", end - start, clf.score(x_test,y_test)\n",
    "proba = clf.predict_proba(X)\n",
    "print \"Prediction Prob\"\n",
    "\n",
    "# start = time.time()\n",
    "# clf = RandomForestClassifier(min_samples_leaf=20)\n",
    "# clf.fit(X, y)\n",
    "# end = time.time()\n",
    "# print \"Random Forest\", end - start, clf.score(X,y)\n",
    "# proba = clf.predict_proba(X)"
   ]
  },
  {
   "cell_type": "code",
   "execution_count": null,
   "metadata": {
    "collapsed": true
   },
   "outputs": [],
   "source": []
  }
 ],
 "metadata": {
  "kernelspec": {
   "display_name": "Python 2",
   "language": "python",
   "name": "python2"
  },
  "language_info": {
   "codemirror_mode": {
    "name": "ipython",
    "version": 2
   },
   "file_extension": ".py",
   "mimetype": "text/x-python",
   "name": "python",
   "nbconvert_exporter": "python",
   "pygments_lexer": "ipython2",
   "version": "2.7.12"
  }
 },
 "nbformat": 4,
 "nbformat_minor": 2
}
