{
 "cells": [
  {
   "cell_type": "code",
   "execution_count": null,
   "metadata": {},
   "outputs": [],
   "source": [
    "from nltk.tokenize import sent_tokenize, word_tokenize\n",
    "from nltk.tokenize import WhitespaceTokenizer \n",
    "from nltk.corpus import wordnet\n",
    "from expander import expand\n",
    "from flattener import flatten\n",
    "\n",
    "def token_punct_comma(tokens):\n",
    "    for i in range(len(tokens)):\n",
    "        if '.' in tokens[i]:\n",
    "            tokenized = word_tokenize(tokens[i])\n",
    "            tokens[i] = tokenized\n",
    "    return tokens\n",
    "\n",
    "def convert_sentence(sentence):\n",
    "    tokens = WhitespaceTokenizer().tokenize(sentence.lower())\n",
    "    expanded = expand(tokens)\n",
    "    flattened = flatten(expanded)\n",
    "    comma_tokenized = token_punct_comma(flattened)\n",
    "    flattened2 = flatten(comma_tokenized)\n",
    "    return flattened2\n",
    "\n",
    "def contraction_converter(data):\n",
    "    for line in data:\n",
    "        line[1] = convert_sentence(line[1])\n",
    "        line[2] = convert_sentence(line[2])\n",
    "    return data\n",
    "    \n",
    "    \n"
   ]
  }
 ],
 "metadata": {
  "kernelspec": {
   "display_name": "Python 3",
   "language": "python",
   "name": "python3"
  },
  "language_info": {
   "codemirror_mode": {
    "name": "ipython",
    "version": 3
   },
   "file_extension": ".py",
   "mimetype": "text/x-python",
   "name": "python",
   "nbconvert_exporter": "python",
   "pygments_lexer": "ipython3",
   "version": "3.5.4"
  }
 },
 "nbformat": 4,
 "nbformat_minor": 2
}
